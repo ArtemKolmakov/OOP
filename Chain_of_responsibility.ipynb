{
 "cells": [
  {
   "cell_type": "code",
   "execution_count": 1,
   "metadata": {},
   "outputs": [],
   "source": [
    "class Charecter:\n",
    "    def __init__(self):\n",
    "        self.name = \"Nagibator\"\n",
    "        self.xp = 0\n",
    "        self.passed_quests = set()\n",
    "        self.taken_quests = set()"
   ]
  },
  {
   "cell_type": "code",
   "execution_count": 2,
   "metadata": {},
   "outputs": [],
   "source": [
    "QUEST_SPEAK, QUESR_HUNT, QUEST_CARRY = \"QSPEAK\", \"QHUNT\", \"QCARRY\""
   ]
  },
  {
   "cell_type": "code",
   "execution_count": 3,
   "metadata": {},
   "outputs": [],
   "source": [
    "class  Event:\n",
    "    def __init__(self, kind):\n",
    "        self.kind = kind"
   ]
  },
  {
   "cell_type": "code",
   "execution_count": 4,
   "metadata": {},
   "outputs": [],
   "source": [
    "class NullHandler:\n",
    "    def __init__(self, successor=None):\n",
    "        self.__successor = successor\n",
    "\n",
    "    def handle(self, charecter, event):\n",
    "        if self.__successor is not None:\n",
    "            self.__successor.handle(charecter, event)"
   ]
  },
  {
   "cell_type": "code",
   "execution_count": 5,
   "metadata": {},
   "outputs": [],
   "source": [
    "class Quest_1(NullHandler):\n",
    "    def handle(self, charecter, event):\n",
    "        if event.kind == QUEST_SPEAK:\n",
    "            print('1) change charecter condition')\n",
    "        else:\n",
    "            print('1) pass the event further')\n",
    "            super().handle(charecter, event)\n",
    "\n",
    "            \n",
    "class Quest_2(NullHandler):\n",
    "    def handle(self, charecter, event):\n",
    "        if event.kind == QUESR_HUNT:\n",
    "            print('2) change charecter condition')\n",
    "        else:\n",
    "            print('2) pass the event further')\n",
    "            super().handle(charecter, event)\n",
    "            \n",
    "            \n",
    "class Quest_3(NullHandler):\n",
    "    def handle(self, charecter, event):\n",
    "        if event.kind == QUEST_CARRY:\n",
    "            print('3) change charecter condition')\n",
    "        else:\n",
    "            print('3) pass the event further')\n",
    "            super().handle(charecter, event)"
   ]
  },
  {
   "cell_type": "code",
   "execution_count": 6,
   "metadata": {},
   "outputs": [],
   "source": [
    "class QuestGiver:\n",
    "    def __init__(self):\n",
    "        self.handlers = Quest_3(Quest_2(Quest_1(NullHandler())))\n",
    "        self.events = []\n",
    "        \n",
    "    def add_event(self, event):\n",
    "        self.events.append(event)\n",
    "        \n",
    "    def handle_events(self, charecter):\n",
    "        for event in self.events:\n",
    "            self.handlers.handle(charecter, event)"
   ]
  },
  {
   "cell_type": "code",
   "execution_count": 7,
   "metadata": {},
   "outputs": [],
   "source": [
    "events = [Event(QUEST_SPEAK), Event(QUESR_HUNT), Event(QUEST_CARRY)]\n",
    "\n",
    "quest_giver = QuestGiver()\n",
    "\n",
    "for event in events:\n",
    "    quest_giver.add_event(event)"
   ]
  },
  {
   "cell_type": "code",
   "execution_count": 8,
   "metadata": {},
   "outputs": [
    {
     "data": {
      "text/plain": [
       "['QSPEAK', 'QHUNT', 'QCARRY']"
      ]
     },
     "execution_count": 8,
     "metadata": {},
     "output_type": "execute_result"
    }
   ],
   "source": [
    "list(map(lambda x: x.kind, quest_giver.events))"
   ]
  },
  {
   "cell_type": "code",
   "execution_count": 9,
   "metadata": {},
   "outputs": [
    {
     "name": "stdout",
     "output_type": "stream",
     "text": [
      "3) pass the event further\n",
      "2) pass the event further\n",
      "1) change charecter condition\n",
      "3) pass the event further\n",
      "2) change charecter condition\n",
      "3) change charecter condition\n"
     ]
    }
   ],
   "source": [
    "player = Charecter()\n",
    "\n",
    "quest_giver.handle_events(player)"
   ]
  },
  {
   "cell_type": "markdown",
   "metadata": {},
   "source": [
    "## My task"
   ]
  },
  {
   "cell_type": "code",
   "execution_count": 1,
   "metadata": {},
   "outputs": [],
   "source": [
    "class SomeObject:\n",
    "    def __init__(self):\n",
    "        self.integer_field = 0\n",
    "        self.float_field = 0.0\n",
    "        self.string_field = \"\""
   ]
  },
  {
   "cell_type": "code",
   "execution_count": 2,
   "metadata": {},
   "outputs": [],
   "source": [
    "class EventGet:\n",
    "    def __init__(self, type_):\n",
    "        self.type =  type_\n",
    "        \n",
    "class EventSet:\n",
    "    def __init__(self, value):\n",
    "        self.value = value"
   ]
  },
  {
   "cell_type": "code",
   "execution_count": 6,
   "metadata": {},
   "outputs": [],
   "source": [
    "class EventGet:\n",
    "    def __init__(self, type_):\n",
    "        self.type =  type_\n",
    "        \n",
    "class EventSet:\n",
    "    def __init__(self, value):\n",
    "        self.value = value\n",
    "        \n",
    "\n",
    "class NullHandler:\n",
    "    def __init__(self, successor=None):\n",
    "        self.__successor = successor\n",
    "        \n",
    "    def handle(self, obj_, event):\n",
    "        if self.__successor is not None:\n",
    "            return self.__successor.handle(obj_, event)\n",
    "\n",
    "\n",
    "class IntHandler(NullHandler):\n",
    "    def handle(self, obj_, event):\n",
    "        if isinstance(event, EventGet) and event.type is int:\n",
    "            return obj_.integer_field\n",
    "        elif isinstance(event, EventSet) and isinstance(event.value, int):\n",
    "            obj_.integer_field = event.value        \n",
    "        else:\n",
    "            return super().handle(obj_, event)\n",
    "\n",
    "\n",
    "class FloatHandler(NullHandler):\n",
    "    def handle(self, obj_, event):\n",
    "        if isinstance(event, EventGet) and event.type is float:\n",
    "            return obj_.float_field\n",
    "        elif isinstance(event, EventSet) and isinstance(event.value, float):\n",
    "            obj_.float_field = event.value        \n",
    "        else:\n",
    "            return super().handle(obj_, event)\n",
    "\n",
    "\n",
    "class StrHandler(NullHandler):\n",
    "     def handle(self, obj_, event):\n",
    "        if isinstance(event, EventGet) and event.type is str:\n",
    "            return obj_.string_field\n",
    "        elif isinstance(event, EventSet) and isinstance(event.value, str):\n",
    "            obj_.string_field = event.value        \n",
    "        else:\n",
    "            return super().handle(obj_, event)"
   ]
  }
 ],
 "metadata": {
  "kernelspec": {
   "display_name": "Python 2",
   "language": "python",
   "name": "python2"
  },
  "language_info": {
   "codemirror_mode": {
    "name": "ipython",
    "version": 2
   },
   "file_extension": ".py",
   "mimetype": "text/x-python",
   "name": "python",
   "nbconvert_exporter": "python",
   "pygments_lexer": "ipython2",
   "version": "2.7.15rc1"
  }
 },
 "nbformat": 4,
 "nbformat_minor": 2
}
